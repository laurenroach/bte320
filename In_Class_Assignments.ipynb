{
  "nbformat": 4,
  "nbformat_minor": 0,
  "metadata": {
    "colab": {
      "provenance": [],
      "authorship_tag": "ABX9TyOcnwE6gTBHyELNp7FO6VVk",
      "include_colab_link": true
    },
    "kernelspec": {
      "name": "python3",
      "display_name": "Python 3"
    },
    "language_info": {
      "name": "python"
    }
  },
  "cells": [
    {
      "cell_type": "markdown",
      "metadata": {
        "id": "view-in-github",
        "colab_type": "text"
      },
      "source": [
        "<a href=\"https://colab.research.google.com/github/laurenroach/bte320/blob/main/In_Class_Assignments.ipynb\" target=\"_parent\"><img src=\"https://colab.research.google.com/assets/colab-badge.svg\" alt=\"Open In Colab\"/></a>"
      ]
    },
    {
      "cell_type": "code",
      "execution_count": null,
      "metadata": {
        "colab": {
          "base_uri": "https://localhost:8080/"
        },
        "id": "o8bUo00NCq56",
        "outputId": "0c4266cf-16fb-4801-bbfb-1f1b7fc003fb"
      },
      "outputs": [
        {
          "output_type": "stream",
          "name": "stdout",
          "text": [
            "450\n"
          ]
        }
      ],
      "source": [
        "pi = 3\n",
        "r = 5\n",
        "h = 10\n",
        "SA = 2 * pi * r ** 2 + 2 * pi * r * h\n",
        "print(SA)"
      ]
    },
    {
      "cell_type": "code",
      "source": [
        "p1 = input(\"Player 1, rock, paper, or scissors? \")\n",
        "p2 = input(\"Player 2, rock, paper, or scissors? \")\n",
        "\n",
        "if p1 == p2:\n",
        "  print(\"Draw!\")\n",
        "\n",
        "if p1 == \"rock\" and p2 == \"paper\":\n",
        "        print(\"Player 2 wins!\")\n",
        "\n",
        "if p1 == \"rock\" and p2 == \"scissors\":\n",
        "        print(\"Player 1 wins!\")\n",
        "\n",
        "if p1 == \"paper\" and p2 == \"rock\":\n",
        "        print(\"Player 1 wins!\")\n",
        "\n",
        "if p1 == \"paper\" and p2 == \"scissors\":\n",
        "        print(\"Player 2 wins!\")\n",
        "\n",
        "if p1 == \"scissors\" and p2 == \"paper\":\n",
        "        print(\"Player 1 wins!\")\n",
        "\n",
        "if p1 == \"scissors\" and p2 == \"rock\":\n",
        "        print(\"Player 2 wins!\")"
      ],
      "metadata": {
        "id": "l-35DjghED5b",
        "colab": {
          "base_uri": "https://localhost:8080/"
        },
        "outputId": "56e17417-02c3-426c-fa8a-8c1883f6a53c"
      },
      "execution_count": null,
      "outputs": [
        {
          "output_type": "stream",
          "name": "stdout",
          "text": [
            "Player 1, rock, paper, or scissors? rock\n",
            "Player 2, rock, paper, or scissors? rock\n",
            "Draw!\n"
          ]
        }
      ]
    },
    {
      "cell_type": "code",
      "source": [
        "n1 = float(input('enter number: '))\n",
        "n2 = float(input('enter number: '))\n",
        "symbol = input('Choose operator (+, -, *, /, **):')\n",
        "\n",
        "if symbol == '+':\n",
        "  print(n1 + n2)\n",
        "elif symbol == '-':\n",
        "  print(n1 - n2)\n",
        "elif symbol == '*':\n",
        "  print(n1 * n2)\n",
        "elif symbol == '/':\n",
        "  print(n1 / n2)\n",
        "elif symbol == '**':\n",
        "  print(n1 ** n2)"
      ],
      "metadata": {
        "id": "UzXB13pKX6p0"
      },
      "execution_count": null,
      "outputs": []
    }
  ]
}