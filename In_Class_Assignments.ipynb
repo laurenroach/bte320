{
  "nbformat": 4,
  "nbformat_minor": 0,
  "metadata": {
    "colab": {
      "provenance": []
    },
    "kernelspec": {
      "name": "python3",
      "display_name": "Python 3"
    },
    "language_info": {
      "name": "python"
    }
  },
  "cells": [
    {
      "cell_type": "markdown",
      "source": [
        "Shape area calculator"
      ],
      "metadata": {
        "id": "8ytRdowff-UO"
      }
    },
    {
      "cell_type": "code",
      "execution_count": null,
      "metadata": {
        "colab": {
          "base_uri": "https://localhost:8080/"
        },
        "id": "o8bUo00NCq56",
        "outputId": "0c4266cf-16fb-4801-bbfb-1f1b7fc003fb"
      },
      "outputs": [
        {
          "output_type": "stream",
          "name": "stdout",
          "text": [
            "450\n"
          ]
        }
      ],
      "source": [
        "pi = 3\n",
        "r = 5\n",
        "h = 10\n",
        "SA = 2 * pi * r ** 2 + 2 * pi * r * h\n",
        "print(SA)"
      ]
    },
    {
      "cell_type": "markdown",
      "source": [
        "Rock-paper-scissors (with the while loop)"
      ],
      "metadata": {
        "id": "GXhgSSkygFa9"
      }
    },
    {
      "cell_type": "code",
      "source": [
        "p1 = input(\"Player 1, rock, paper, or scissors? \")\n",
        "p2 = input(\"Player 2, rock, paper, or scissors? \")\n",
        "\n",
        "if p1 == p2:\n",
        "  print(\"Draw!\")\n",
        "\n",
        "if p1 == \"rock\" and p2 == \"paper\":\n",
        "        print(\"Player 2 wins!\")\n",
        "\n",
        "if p1 == \"rock\" and p2 == \"scissors\":\n",
        "        print(\"Player 1 wins!\")\n",
        "\n",
        "if p1 == \"paper\" and p2 == \"rock\":\n",
        "        print(\"Player 1 wins!\")\n",
        "\n",
        "if p1 == \"paper\" and p2 == \"scissors\":\n",
        "        print(\"Player 2 wins!\")\n",
        "\n",
        "if p1 == \"scissors\" and p2 == \"paper\":\n",
        "        print(\"Player 1 wins!\")\n",
        "\n",
        "if p1 == \"scissors\" and p2 == \"rock\":\n",
        "        print(\"Player 2 wins!\")"
      ],
      "metadata": {
        "id": "l-35DjghED5b",
        "colab": {
          "base_uri": "https://localhost:8080/"
        },
        "outputId": "56e17417-02c3-426c-fa8a-8c1883f6a53c"
      },
      "execution_count": null,
      "outputs": [
        {
          "output_type": "stream",
          "name": "stdout",
          "text": [
            "Player 1, rock, paper, or scissors? rock\n",
            "Player 2, rock, paper, or scissors? rock\n",
            "Draw!\n"
          ]
        }
      ]
    },
    {
      "cell_type": "markdown",
      "source": [
        "Numerical calculator"
      ],
      "metadata": {
        "id": "Mm8j7ejegVdb"
      }
    },
    {
      "cell_type": "code",
      "source": [
        "n1 = float(input('enter number: '))\n",
        "n2 = float(input('enter number: '))\n",
        "symbol = input('Choose operator (+, -, *, /, **):')\n",
        "\n",
        "if symbol == '+':\n",
        "  print(n1 + n2)\n",
        "elif symbol == '-':\n",
        "  print(n1 - n2)\n",
        "elif symbol == '*':\n",
        "  print(n1 * n2)\n",
        "elif symbol == '/':\n",
        "  print(n1 / n2)\n",
        "elif symbol == '**':\n",
        "  print(n1 ** n2)"
      ],
      "metadata": {
        "id": "UzXB13pKX6p0"
      },
      "execution_count": null,
      "outputs": []
    },
    {
      "cell_type": "markdown",
      "source": [
        "**Parking garage**"
      ],
      "metadata": {
        "id": "jTGkE820gfac"
      }
    },
    {
      "cell_type": "code",
      "source": [
        "for ad in range (0, 201, 25):\n",
        "  additional= 2* round(ad**(0.5)) #the ,5 gives 5 decimals\n",
        "  profit= (20+additional)*10 -200-ad\n",
        "  print(ad, profit)"
      ],
      "metadata": {
        "colab": {
          "base_uri": "https://localhost:8080/"
        },
        "id": "dJRRsQKavn8B",
        "outputId": "ff9d2897-b09e-4453-d47d-fd2057e03132"
      },
      "execution_count": null,
      "outputs": [
        {
          "output_type": "stream",
          "name": "stdout",
          "text": [
            "0 0\n",
            "25 75\n",
            "50 90\n",
            "75 105\n",
            "100 100\n",
            "125 95\n",
            "150 90\n",
            "175 85\n",
            "200 80\n"
          ]
        }
      ]
    },
    {
      "cell_type": "markdown",
      "source": [
        "**Movie theater**"
      ],
      "metadata": {
        "id": "SoBWjhHLgn5X"
      }
    },
    {
      "cell_type": "code",
      "source": [
        "def calcFee(hours):\n",
        "  base_fee = 5\n",
        "  return hours*2.5 + base_fee\n",
        "\n",
        "hours = int(input('Enter the number of hours parked: '))\n",
        "\n",
        "print(\"$\",calcFee(hours) )"
      ],
      "metadata": {
        "id": "hDjAQ38Cv4vg"
      },
      "execution_count": null,
      "outputs": []
    },
    {
      "cell_type": "markdown",
      "source": [
        "**Months2Numbers dictionary**"
      ],
      "metadata": {
        "id": "iJ8s9MIwguEb"
      }
    },
    {
      "cell_type": "code",
      "source": [
        "months = {}\n",
        "\n",
        "names = [\"Jan\", \"Feb\", \"Mar\", \"Apr\", \"May\", \"Jun\", \"Jul\", \"Aug\", \"Sep\", \"Oct\", \"Nov\", \"Dec\"]\n",
        "numbers = [1,2,3,4,5,6,7,8,9,10,11,12]\n",
        "\n",
        "for i in range(len(numbers)):\n",
        "  months[i+1] = names[i]\n",
        "\n",
        "months"
      ],
      "metadata": {
        "id": "Q0bXt_EwWIxI",
        "colab": {
          "base_uri": "https://localhost:8080/"
        },
        "outputId": "27fd2e6a-ba5b-4a87-9082-16adfdb19750"
      },
      "execution_count": null,
      "outputs": [
        {
          "output_type": "execute_result",
          "data": {
            "text/plain": [
              "{1: 'Jan',\n",
              " 2: 'Feb',\n",
              " 3: 'Mar',\n",
              " 4: 'Apr',\n",
              " 5: 'May',\n",
              " 6: 'Jun',\n",
              " 7: 'Jul',\n",
              " 8: 'Aug',\n",
              " 9: 'Sep',\n",
              " 10: 'Oct',\n",
              " 11: 'Nov',\n",
              " 12: 'Dec'}"
            ]
          },
          "metadata": {},
          "execution_count": 3
        }
      ]
    },
    {
      "cell_type": "markdown",
      "source": [
        "**Fee calculation and display functions**"
      ],
      "metadata": {
        "id": "RV1kF2VfkNQY"
      }
    },
    {
      "cell_type": "code",
      "source": [
        "def range_check(num, low, high):\n",
        "  if num >= low and num <= high:\n",
        "    return True\n",
        "  else:\n",
        "    return False"
      ],
      "metadata": {
        "id": "SOyQ15zkq5kW"
      },
      "execution_count": null,
      "outputs": []
    },
    {
      "cell_type": "code",
      "source": [
        "print(range_check(2,1,3))"
      ],
      "metadata": {
        "colab": {
          "base_uri": "https://localhost:8080/"
        },
        "id": "qLk4q7WLxJnx",
        "outputId": "3c57b484-3788-4057-9b14-65e042f96b3f"
      },
      "execution_count": null,
      "outputs": [
        {
          "output_type": "stream",
          "name": "stdout",
          "text": [
            "True\n"
          ]
        }
      ]
    },
    {
      "cell_type": "code",
      "source": [
        "range_check(2,1,3)"
      ],
      "metadata": {
        "colab": {
          "base_uri": "https://localhost:8080/"
        },
        "id": "pmJyTIYlx4D1",
        "outputId": "97e3b923-57f7-48ed-a0d9-b8d5b2f6012e"
      },
      "execution_count": null,
      "outputs": [
        {
          "output_type": "execute_result",
          "data": {
            "text/plain": [
              "True"
            ]
          },
          "metadata": {},
          "execution_count": 3
        }
      ]
    },
    {
      "cell_type": "code",
      "source": [
        "def inputs():\n",
        "  annual_salary = float(input('Enter salary:'))\n",
        "  portion = float(input('Enter portion:'))\n",
        "  total_cost = float(input('Enter cost:'))\n",
        "  return annual_salary, portion, total_cost\n"
      ],
      "metadata": {
        "id": "1LxdzW6l1Nj5"
      },
      "execution_count": null,
      "outputs": []
    },
    {
      "cell_type": "code",
      "source": [
        "\n",
        "annual_salary = float(input('Enter your annual salary: '))\n",
        "portion_saved = float(input('Enter the percent of your salary to save, as a decimal: '))\n",
        "total_cost = float(input('Enter the cost of your dream home: '))\n",
        "semi_annual_raise = float(input('Enter the semi-annual raise, as a decimal: '))\n",
        "\n",
        "portion_down_payment = 0.25\n",
        "r = 0.04\n",
        "\n",
        "down_payment = total_cost * portion_down_payment\n",
        "current_savings = 0\n",
        "months = 0\n",
        "\n",
        "while current_savings < down_payment:\n",
        "    current_savings += current_savings * (r / 12) + (portion_saved * (annual_salary / 12))\n",
        "    months += 1\n",
        "\n",
        "    if months % 6 == 0:\n",
        "        annual_salary += annual_salary * semi_annual_raise\n",
        "\n",
        "print(f\"Number of months: {months}\")\n"
      ],
      "metadata": {
        "id": "rRUjHSEjBTUw"
      },
      "execution_count": null,
      "outputs": []
    },
    {
      "cell_type": "code",
      "source": [
        "annual_salary, portion, total_cost = inputs()\n",
        "\n",
        "months = 0\n",
        "amount = 0"
      ],
      "metadata": {
        "colab": {
          "base_uri": "https://localhost:8080/"
        },
        "id": "JnIcfA7Q2Pbp",
        "outputId": "c50cbbc4-7d9a-4bae-8e2e-6b7d5fc88b07"
      },
      "execution_count": null,
      "outputs": [
        {
          "name": "stdout",
          "output_type": "stream",
          "text": [
            "Enter salary:5000\n",
            "Enter portion:23\n",
            "Enter cost:450000\n"
          ]
        }
      ]
    },
    {
      "cell_type": "markdown",
      "source": [
        "**Reverse function (recursion)**"
      ],
      "metadata": {
        "id": "kE5npn9bkXUZ"
      }
    },
    {
      "cell_type": "code",
      "source": [
        "def rev(s):\n",
        "    if len(s) == 1:\n",
        "        return s\n",
        "    else:\n",
        "        return s[-1]+ rev(s[:-1])\n",
        "\n",
        "print(rev('hello'))"
      ],
      "metadata": {
        "colab": {
          "base_uri": "https://localhost:8080/"
        },
        "id": "y_ZvbkBywDxz",
        "outputId": "63cb2972-51c7-4034-901f-bad1de03b5f0"
      },
      "execution_count": null,
      "outputs": [
        {
          "output_type": "stream",
          "name": "stdout",
          "text": [
            "olleh\n"
          ]
        }
      ]
    },
    {
      "cell_type": "markdown",
      "source": [
        "Student class"
      ],
      "metadata": {
        "id": "H4yISu5aeRJ4"
      }
    },
    {
      "cell_type": "code",
      "source": [
        "class Student:\n",
        "  def __init__(self, name, number):\n",
        "    self.name = name\n",
        "    self.number = number\n",
        "    self.__courses = []\n",
        "\n",
        "  def enroll(self, course):\n",
        "    if course not in self.__courses:\n",
        "      self.__courses.append(course)\n",
        "    else:\n",
        "      print(f'You have already enrolled in course: {course}')\n",
        "\n",
        "  def get_courses(self):\n",
        "    return self.__courses\n",
        "\n",
        "class GradStudent(Student):\n",
        "  def __init__(self, name, number, stipend):\n",
        "    super().__init__(name, number)\n",
        "    self.stipend = stipend\n",
        "\n",
        "  def get_stipend(self):\n",
        "    return self.stipend\n",
        "\n",
        "  def set_stipend(self, newStipend):\n",
        "    self.stipend = newStipend"
      ],
      "metadata": {
        "id": "BPcn9ywzrL8y"
      },
      "execution_count": null,
      "outputs": []
    },
    {
      "cell_type": "code",
      "source": [
        "s = Student('Bob', '123')\n",
        "g = GradStudent('Alice', '456', 2000)\n",
        "\n",
        "s.enroll('ABC123')\n",
        "g.enroll('XYZ456')"
      ],
      "metadata": {
        "id": "QokDFgxn-7jz"
      },
      "execution_count": null,
      "outputs": []
    }
  ]
}